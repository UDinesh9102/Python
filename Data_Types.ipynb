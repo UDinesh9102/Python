{
  "nbformat": 4,
  "nbformat_minor": 0,
  "metadata": {
    "colab": {
      "provenance": []
    },
    "kernelspec": {
      "name": "python3",
      "display_name": "Python 3"
    },
    "language_info": {
      "name": "python"
    }
  },
  "cells": [
    {
      "cell_type": "code",
      "source": [
        "a=100\n",
        "b=350\n",
        "c=a+b\n",
        "print(c)"
      ],
      "metadata": {
        "colab": {
          "base_uri": "https://localhost:8080/"
        },
        "id": "-8Bz3xkT1Kgf",
        "outputId": "7965c245-6125-4f0e-c0df-d13e3a2fbe68"
      },
      "execution_count": null,
      "outputs": [
        {
          "output_type": "stream",
          "name": "stdout",
          "text": [
            "450\n"
          ]
        }
      ]
    },
    {
      "cell_type": "markdown",
      "source": [
        "**Integer**"
      ],
      "metadata": {
        "id": "JjjzIvpC4VDg"
      }
    },
    {
      "cell_type": "code",
      "execution_count": null,
      "metadata": {
        "colab": {
          "base_uri": "https://localhost:8080/"
        },
        "id": "FvxpEn7IxpAO",
        "outputId": "1e510885-1cfc-4c65-c364-d9cd40a11aef"
      },
      "outputs": [
        {
          "output_type": "stream",
          "name": "stdout",
          "text": [
            "5 is of type <class 'int'>\n",
            "2.0 is of type <class 'float'>\n",
            "(1+2j) is of type <class 'complex'>\n"
          ]
        }
      ],
      "source": [
        "num1 = 5\n",
        "print(num1, 'is of type', type(num1))"
      ]
    },
    {
      "cell_type": "markdown",
      "source": [
        "**Float**"
      ],
      "metadata": {
        "id": "7QCxZ2gY4aqU"
      }
    },
    {
      "cell_type": "code",
      "source": [
        "num2 = 2.0\n",
        "print(num2, 'is of type', type(num2))"
      ],
      "metadata": {
        "colab": {
          "base_uri": "https://localhost:8080/"
        },
        "id": "YcUAqajU4dr9",
        "outputId": "c43d41b9-d0b8-4ed2-b495-19cb4b2b4148"
      },
      "execution_count": null,
      "outputs": [
        {
          "output_type": "stream",
          "name": "stdout",
          "text": [
            "2.0 is of type <class 'float'>\n"
          ]
        }
      ]
    },
    {
      "cell_type": "markdown",
      "source": [
        "**Complex**"
      ],
      "metadata": {
        "id": "5794KiIk4kz5"
      }
    },
    {
      "cell_type": "code",
      "source": [
        "num3 = 1+2j\n",
        "print(num3, 'is of type', type(num3))"
      ],
      "metadata": {
        "colab": {
          "base_uri": "https://localhost:8080/"
        },
        "id": "Rg038L2q4jOc",
        "outputId": "88212fbe-895c-4582-eed8-252bf078c944"
      },
      "execution_count": null,
      "outputs": [
        {
          "output_type": "stream",
          "name": "stdout",
          "text": [
            "(1+2j) is of type <class 'complex'>\n"
          ]
        }
      ]
    },
    {
      "cell_type": "markdown",
      "source": [
        "**String**"
      ],
      "metadata": {
        "id": "PZf7UY3R4qAj"
      }
    },
    {
      "cell_type": "code",
      "source": [
        "x = \"Hello DINESH\"\n",
        "print(type(x))\n",
        "print (x)"
      ],
      "metadata": {
        "colab": {
          "base_uri": "https://localhost:8080/"
        },
        "id": "NpyxAJX80yyj",
        "outputId": "b0b9d66f-cad6-424c-d6d4-cfa43ac61d83"
      },
      "execution_count": null,
      "outputs": [
        {
          "output_type": "stream",
          "name": "stdout",
          "text": [
            "<class 'str'>\n",
            "Hello DINESH\n"
          ]
        }
      ]
    },
    {
      "cell_type": "markdown",
      "source": [
        "**Boolean**"
      ],
      "metadata": {
        "id": "TVnbk92s5k5i"
      }
    },
    {
      "cell_type": "code",
      "source": [
        "var1 = True\n",
        "type(var1)"
      ],
      "metadata": {
        "colab": {
          "base_uri": "https://localhost:8080/"
        },
        "id": "VKt03mas5q0c",
        "outputId": "d4ca68b0-3d0c-4515-a7de-5e4985a2aee2"
      },
      "execution_count": null,
      "outputs": [
        {
          "output_type": "execute_result",
          "data": {
            "text/plain": [
              "bool"
            ]
          },
          "metadata": {},
          "execution_count": 20
        }
      ]
    },
    {
      "cell_type": "code",
      "source": [
        "print(10 > 9)\n",
        "print(10 == 9)\n",
        "print(10 < 9)"
      ],
      "metadata": {
        "colab": {
          "base_uri": "https://localhost:8080/"
        },
        "id": "y2MlbqVW6gUx",
        "outputId": "425bb247-7d7d-4c98-82f1-e5b2e3bfff03"
      },
      "execution_count": null,
      "outputs": [
        {
          "output_type": "stream",
          "name": "stdout",
          "text": [
            "True\n",
            "False\n",
            "False\n"
          ]
        }
      ]
    }
  ]
}